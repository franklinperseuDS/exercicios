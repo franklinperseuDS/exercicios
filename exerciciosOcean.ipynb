{
  "nbformat": 4,
  "nbformat_minor": 0,
  "metadata": {
    "colab": {
      "name": "exerciciosOcean.ipynb",
      "provenance": [],
      "collapsed_sections": [],
      "authorship_tag": "ABX9TyMNDVmJ8JbQdWn2E1OTxCkI",
      "include_colab_link": true
    },
    "kernelspec": {
      "name": "python3",
      "display_name": "Python 3"
    }
  },
  "cells": [
    {
      "cell_type": "markdown",
      "metadata": {
        "id": "view-in-github",
        "colab_type": "text"
      },
      "source": [
        "<a href=\"https://colab.research.google.com/github/franklinperseuDS/exercicios/blob/main/exerciciosOcean.ipynb\" target=\"_parent\"><img src=\"https://colab.research.google.com/assets/colab-badge.svg\" alt=\"Open In Colab\"/></a>"
      ]
    },
    {
      "cell_type": "markdown",
      "metadata": {
        "id": "uKLjM53t2uhj"
      },
      "source": [
        "  \n",
        "﻿\"\"\"\n",
        "Exercício 13\n",
        "Nome: Convertendo Celsius/Farenheit\n",
        "Objetivo: Escrever duas funções de conversão, uma de graus celsius em farenheit e a outra que faça o contrário.\n",
        "Dificuldade: Principiante\n",
        "1 - Crie um aplicativo de conversão entre as temperaturas Celsius e Farenheit.\n",
        "2 - Primeiro o usuário deve escolher se vai entrar com a temperatura em Célsius ou Farenheit, depois a conversão escolhida é realizada.\n",
        "3 - Se C é a temperatura em Celsius e F em farenheit, as fórmulas de conversão são:\n",
        "C = 5 * (F - 32) / 9\n",
        "F = (9 * C / 5) + 32\n",
        "\"\"\"\n",
        "°F = °C × 1, 8 + 32    °C = (°F − 32) ÷ 1, 8"
      ]
    },
    {
      "cell_type": "code",
      "metadata": {
        "id": "3Nd6qSJs2qxt"
      },
      "source": [
        "def CelsiusToFarenheit(temperatura):\n",
        "  return (9*temperatura/5)+32\n",
        "\n",
        "def FarenheitToCelsius(temperatura):\n",
        "  return 5*(temperatura - 32)/9\n",
        "\n"
      ],
      "execution_count": 50,
      "outputs": []
    },
    {
      "cell_type": "code",
      "metadata": {
        "id": "olP4exbX3XAD"
      },
      "source": [
        "def main():\n",
        "  print(\"----------------Conversões-----------------------\")\n",
        "  escolha =  int(input(\"Você deseja fazer qual conversão : \\n (1) - Celsius para Farenheint \\n (2) - Farenheint para Celsius\\n (3) - Sair \\n\"))\n",
        "  if escolha != 3:\n",
        "    temperatura = float(input(\"digite o valor da temperatura \\n\"))\n",
        "    if escolha == 1:\n",
        "      print(f'{temperatura} Cº = {CelsiusToFarenheit(temperatura):.2f} Fº  ')\n",
        "    elif escolha == 2:\n",
        "      print(f'{temperatura} Fº =  {FarenheitToCelsius(temperatura):.2f} Cº')\n",
        "    else:\n",
        "      print(\"digito inválido\")\n",
        "      main()\n",
        "  \n",
        "  elif escolha == 3:\n",
        "    print(\"Obrigado por utilizar\")\n"
      ],
      "execution_count": 53,
      "outputs": []
    },
    {
      "cell_type": "code",
      "metadata": {
        "id": "D-GBajs74uia",
        "outputId": "d0fae254-dd2c-4966-b7df-d2cd867cdfe8",
        "colab": {
          "base_uri": "https://localhost:8080/"
        }
      },
      "source": [
        "main()"
      ],
      "execution_count": 54,
      "outputs": [
        {
          "output_type": "stream",
          "text": [
            "----------------Conversões-----------------------\n",
            "Você deseja fazer qual conversão : \n",
            " (1) - Celsius para Farenheint \n",
            " (2) - Farenheint para Celsius\\ (3) - Sair \n",
            "2\n",
            "digite o valor da temperatura \n",
            "100\n",
            "100.0 Fº =  37.78 Cº\n"
          ],
          "name": "stdout"
        }
      ]
    },
    {
      "cell_type": "markdown",
      "metadata": {
        "id": "sWikIKr963iB"
      },
      "source": [
        "﻿\"\"\"\n",
        "Exercício 12\n",
        "Nome: Praticando Funções\n",
        "Objetivo: Escrever diversas funções para reaproveitar trechos de código\n",
        "Dificuldade: Intermediário\n",
        "Escreva um código de modo que exiba o valor do x digitado pelo usuário e que seja\n",
        "substituído nas funções.\n",
        "1 - Sendo f(x) = 3x - 2 determine o valor de f(5) + f(0).\n",
        "2 - Na produção de peças, uma fábrica tem um custo fixo de R$ 30,00 mais um custo variável\n",
        "de R$ 2,00 por unidade produzida. Sendo x o número de peças unitárias produzidas, determine\n",
        "o custo de produção de 100 peças.\n",
        "3 - Crie uma função que receba 2 números e retorne o maior valor.\n",
        "4 - Crie uma função que receba 3 números e retorne o maior valor, use a função da questão 3.\n",
        "5 - Dadas as funções f(x) = x – 5 e g(x) = 3x + 1, crie um código que retorne o valor da\n",
        "soma de f(9) + g(2). Depois crie um código que retorne o valor da soma das duas funções\n",
        "com números digitados pelo usuário.\n",
        "6 - Considere as seguintes funções: f(x) = x - 4 e g(x) = 5x + 1.\n",
        "Qual é o valor da função composta g(f(3))? Depois crie um código que retorne o valor da\n",
        "soma das duas funções com números digitados pelo usuário.\n",
        "7 - Crie uma função chamada dado() que retorna, através de sorteio, um número de 1 até 6.\n",
        "Exiba 10 números sorteados utilizando a mesma função criada.\n",
        "Números aleatórios: random.randint(inicio, fim)\n",
        "\"\"\"\n"
      ]
    },
    {
      "cell_type": "code",
      "metadata": {
        "id": "7NtwOS9862vu"
      },
      "source": [
        "def Funcao1(x):\n",
        "  return 3x - 2\n",
        "\n",
        "x = input(\"Digite o valor de X\")"
      ],
      "execution_count": null,
      "outputs": []
    },
    {
      "cell_type": "code",
      "metadata": {
        "id": "NELtu4JeFaM5"
      },
      "source": [
        "def Pecas(x):\n",
        "  fixo = 30\n",
        "  adicional = 2\n",
        "  return fixo + x * adicional"
      ],
      "execution_count": null,
      "outputs": []
    },
    {
      "cell_type": "code",
      "metadata": {
        "id": "0pcf50KHFYaW"
      },
      "source": [
        "def Maior(num1,num2):\n",
        "  if num1 > num2:\n",
        "    return num1\n",
        "  else:\n",
        "    return num2"
      ],
      "execution_count": null,
      "outputs": []
    },
    {
      "cell_type": "code",
      "metadata": {
        "id": "Y2xy2wiwFXEr"
      },
      "source": [
        "def Maior2(num1,num2,num3)\n",
        "  comparativo = maior(num1,num2)\n",
        "  return maior(comparativo,num3)\n"
      ],
      "execution_count": null,
      "outputs": []
    },
    {
      "cell_type": "code",
      "metadata": {
        "id": "1gqdnDCFFVyI"
      },
      "source": [
        "\n",
        "def Funcao2(x):\n",
        "  return x -5"
      ],
      "execution_count": null,
      "outputs": []
    },
    {
      "cell_type": "code",
      "metadata": {
        "id": "bUboJu0FE92U"
      },
      "source": [
        "def Funcao3(g):\n",
        "  return 3*g + 1"
      ],
      "execution_count": null,
      "outputs": []
    },
    {
      "cell_type": "code",
      "metadata": {
        "id": "25igoWPvE-CO"
      },
      "source": [
        "def SomaFuncoes(y,z):\n",
        "  y = funcao2(y)\n",
        "  z = funcao3(z)\n",
        "  return y+z"
      ],
      "execution_count": null,
      "outputs": []
    },
    {
      "cell_type": "code",
      "metadata": {
        "id": "h9et6YFhE-KV"
      },
      "source": [
        "def RetornoSomaFuncoes():\n",
        "  numero1 = float(input(\"Digite um valor para a primeira função\\n\"))\n",
        "  numero2 = float(input(\"Digite um valor para a seunda função\\n\"))\n",
        "  print(SomaFuncoes(numero1,numero2)"
      ],
      "execution_count": null,
      "outputs": []
    },
    {
      "cell_type": "code",
      "metadata": {
        "id": "QmsVAfP1E-Rm"
      },
      "source": [
        "def Funcao4(x):\n",
        "  return x -4 "
      ],
      "execution_count": null,
      "outputs": []
    },
    {
      "cell_type": "code",
      "metadata": {
        "id": "_s5bwGmaE-aM"
      },
      "source": [
        "def Funcao5(y):\n",
        "  return 5 * y + 1"
      ],
      "execution_count": null,
      "outputs": []
    },
    {
      "cell_type": "code",
      "metadata": {
        "id": "xbqxIc828VEt",
        "outputId": "b3c93d38-cc74-4256-c6e6-6a6490dbbe07",
        "colab": {
          "base_uri": "https://localhost:8080/"
        }
      },
      "source": [
        "def TesteQ6():\n",
        "  resultado = funcao5(funcao4(3))"
      ],
      "execution_count": 31,
      "outputs": [
        {
          "output_type": "execute_result",
          "data": {
            "text/plain": [
              "10"
            ]
          },
          "metadata": {
            "tags": []
          },
          "execution_count": 31
        }
      ]
    },
    {
      "cell_type": "code",
      "metadata": {
        "id": "qtD0NZnMFJYI"
      },
      "source": [
        "def digitarQ6():\n",
        "  funcao4 = float(input(\"Digite um valor para a primeira função\\n\"))\n",
        "  funcao5 = float(input(\"Digite um valor para a seunda função\\n\"))\n",
        "  return (Funcao4(funcao4) + Funcao5(funcao5))"
      ],
      "execution_count": null,
      "outputs": []
    },
    {
      "cell_type": "code",
      "metadata": {
        "id": "VHd9m_ZuFK8x"
      },
      "source": [
        "questao6 = digitarQ6()\n",
        "print(questao6)"
      ],
      "execution_count": null,
      "outputs": []
    },
    {
      "cell_type": "code",
      "metadata": {
        "id": "zPVxN1C7FjYu",
        "outputId": "dd35ca92-9a18-4492-8a70-4daa5f22336b",
        "colab": {
          "base_uri": "https://localhost:8080/"
        }
      },
      "source": [
        "\"\"\"7 - Crie uma função chamada dado() que retorna, através de sorteio,\n",
        " um número de 1 até 6. Exiba 10 números sorteados utilizando a mesma\n",
        "  função criada. Números aleatórios: random.randint(inicio, fim)\"\"\" \n",
        "from random import randint\n",
        "\n",
        "def dado():\n",
        "  sorteados = []\n",
        "  for i in range(0,10):\n",
        "    sorteados.append(randint(0,6))\n",
        "  return sorteados\n",
        "\n",
        "sorteio = dado()\n",
        "print(f'tamanho {len(sorteio)}:{sorteio} ')\n"
      ],
      "execution_count": 46,
      "outputs": [
        {
          "output_type": "stream",
          "text": [
            "tamanho 10:[0, 0, 1, 6, 0, 0, 1, 5, 4, 5] \n"
          ],
          "name": "stdout"
        }
      ]
    }
  ]
}