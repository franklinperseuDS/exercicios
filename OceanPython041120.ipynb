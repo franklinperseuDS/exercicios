{
  "nbformat": 4,
  "nbformat_minor": 0,
  "metadata": {
    "colab": {
      "name": "OceanPython041120.ipynb",
      "provenance": [],
      "authorship_tag": "ABX9TyPkVDJOQrg/Wy9Sz8/vZBRI",
      "include_colab_link": true
    },
    "kernelspec": {
      "name": "python3",
      "display_name": "Python 3"
    }
  },
  "cells": [
    {
      "cell_type": "markdown",
      "metadata": {
        "id": "view-in-github",
        "colab_type": "text"
      },
      "source": [
        "<a href=\"https://colab.research.google.com/github/franklinperseuDS/exercicios/blob/main/OceanPython041120.ipynb\" target=\"_parent\"><img src=\"https://colab.research.google.com/assets/colab-badge.svg\" alt=\"Open In Colab\"/></a>"
      ]
    },
    {
      "cell_type": "code",
      "metadata": {
        "id": "ti7uw_KiC-R5"
      },
      "source": [
        "import datetime as dt"
      ],
      "execution_count": null,
      "outputs": []
    },
    {
      "cell_type": "code",
      "metadata": {
        "id": "mmTLAR2cEuzs"
      },
      "source": [
        "dataCriada = dt.date(2010,11,15,)"
      ],
      "execution_count": null,
      "outputs": []
    },
    {
      "cell_type": "code",
      "metadata": {
        "id": "XbfsxPzmE4gd",
        "outputId": "89f438d0-05df-423a-9181-e4ddef2a8291",
        "colab": {
          "base_uri": "https://localhost:8080/"
        }
      },
      "source": [
        "print(dataCriada)"
      ],
      "execution_count": null,
      "outputs": [
        {
          "output_type": "stream",
          "text": [
            "2010-11-15\n"
          ],
          "name": "stdout"
        }
      ]
    },
    {
      "cell_type": "code",
      "metadata": {
        "id": "KnT6JGzzE7R0",
        "outputId": "45f04256-d754-4110-a52a-c7244968ed1e",
        "colab": {
          "base_uri": "https://localhost:8080/"
        }
      },
      "source": [
        "print(dataCriada.day)"
      ],
      "execution_count": null,
      "outputs": [
        {
          "output_type": "stream",
          "text": [
            "15\n"
          ],
          "name": "stdout"
        }
      ]
    },
    {
      "cell_type": "code",
      "metadata": {
        "id": "TM1ya1GRE9Pc"
      },
      "source": [
        "dataHoje = dt.date.today()"
      ],
      "execution_count": null,
      "outputs": []
    },
    {
      "cell_type": "code",
      "metadata": {
        "id": "y-JifT3eFPg9",
        "outputId": "2eb50a0d-1c71-4dd1-b814-fe974de05e69",
        "colab": {
          "base_uri": "https://localhost:8080/"
        }
      },
      "source": [
        "print(dataHoje)"
      ],
      "execution_count": null,
      "outputs": [
        {
          "output_type": "stream",
          "text": [
            "2020-11-04\n"
          ],
          "name": "stdout"
        }
      ]
    },
    {
      "cell_type": "code",
      "metadata": {
        "id": "smSsqbOXFTLd",
        "outputId": "26b7947b-3339-40b3-977b-2d0b424937e8",
        "colab": {
          "base_uri": "https://localhost:8080/"
        }
      },
      "source": [
        "dataHora = datetime.datetime.now()\n",
        "print(dataHora)"
      ],
      "execution_count": null,
      "outputs": [
        {
          "output_type": "stream",
          "text": [
            "2020-11-04 16:28:20.096560\n"
          ],
          "name": "stdout"
        }
      ]
    },
    {
      "cell_type": "code",
      "metadata": {
        "id": "HM20bPQYNAO1",
        "outputId": "604b253d-76e2-44ae-eace-31ba2edec2d3",
        "colab": {
          "base_uri": "https://localhost:8080/"
        }
      },
      "source": [
        "idade = 30\n",
        "idade_maior = idade > 18\n",
        "if not idade_maior:\n",
        "  print(\"teste1\")\n",
        "else:\n",
        "  print(\"teste2\")"
      ],
      "execution_count": null,
      "outputs": [
        {
          "output_type": "stream",
          "text": [
            "teste2\n"
          ],
          "name": "stdout"
        }
      ]
    },
    {
      "cell_type": "code",
      "metadata": {
        "id": "BihstkhnFc7H"
      },
      "source": [
        "\n",
        "def jogo():\n",
        "  frase = input(\"Você se considera mais medieval ou futurista?\\n\").lower().strip()\n",
        "  \n",
        "  if 'medieval' in frase:\n",
        "    print(\"espada\")\n",
        "    \n",
        "  elif \"futurista\" in frase:\n",
        "    print(\"sabre de luz\")\n",
        "    \n",
        "  else:\n",
        "    print(\"Tente novamente.\")\n",
        "    jogo()\n",
        "\n",
        "\n",
        "jogo()\n",
        "\n"
      ],
      "execution_count": null,
      "outputs": []
    },
    {
      "cell_type": "code",
      "metadata": {
        "id": "bFuktfj9dgmA"
      },
      "source": [
        ""
      ],
      "execution_count": null,
      "outputs": []
    }
  ]
}